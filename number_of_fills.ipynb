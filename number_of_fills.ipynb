{
 "cells": [
  {
   "cell_type": "markdown",
   "metadata": {},
   "source": [
    "# Number of fills for drugs with reject code 76\n",
    "\n",
    "Pharmacy claims might be rejected with code 76 because a patient fills some drug to its limited number. In this notebook, we try to determine the limitation on number of fills for such drugs. "
   ]
  },
  {
   "cell_type": "markdown",
   "metadata": {},
   "source": [
    "**Assumptions.** Suppose drug X for a payer can be rejected with code 76. \n",
    "1. The number of fills  for X of all patients that filed claims for X are identically independently drew from some Possion distribution\n",
    "$$P(n;\\mu) = \\frac{e^{-\\mu} \\mu^{n-1}}{(n-1)!},$$\n",
    "where $\\mu$ is the unknown average number of fills.\n",
    "2. The limitation $L$ times of fills is the same for all patitents.\n",
    "3. Total pharmacy claims approval rate for drug X with a fixed payer is known, say $N$, and the total approved claims is also known to be $M$."
   ]
  },
  {
   "cell_type": "markdown",
   "metadata": {},
   "source": [
    "The probability of a pharmacy claim getting approved is\n",
    "$$P(1 \\le n \\le L; \\mu).$$"
   ]
  },
  {
   "cell_type": "markdown",
   "metadata": {},
   "source": [
    "We can estimate the probability of a pharmacy claim getting approved to be $\\frac{M}{N}$, so $\\mu$ and $L$ is related by\n",
    "$$P(1 \\le n \\le L; \\mu) \\approx \\frac{M}{N},$$\n",
    "which allows us to determine $L$ from $\\mu$."
   ]
  },
  {
   "cell_type": "markdown",
   "metadata": {},
   "source": [
    "**Note: The estimation between $L$ and $\\mu$ relies critically on the distribution $P(n; \\mu)$. So the estimation can be poor if the actual distribution of $P(n; \\mu)$ is not a Possion distribution.**"
   ]
  },
  {
   "cell_type": "code",
   "execution_count": 1,
   "metadata": {},
   "outputs": [],
   "source": [
    "from scipy.stats import poisson\n",
    "import numpy as np\n",
    "import pandas as pd\n",
    "\n",
    "import matplotlib.pyplot as plt\n",
    "import seaborn as sns\n",
    "\n",
    "sns.set_style('whitegrid')\n",
    "\n",
    "import utils"
   ]
  },
  {
   "cell_type": "markdown",
   "metadata": {},
   "source": [
    "## Probability of approval"
   ]
  },
  {
   "cell_type": "code",
   "execution_count": 2,
   "metadata": {},
   "outputs": [
    {
     "data": {
      "text/html": [
       "<div>\n",
       "<style scoped>\n",
       "    .dataframe tbody tr th:only-of-type {\n",
       "        vertical-align: middle;\n",
       "    }\n",
       "\n",
       "    .dataframe tbody tr th {\n",
       "        vertical-align: top;\n",
       "    }\n",
       "\n",
       "    .dataframe thead th {\n",
       "        text-align: right;\n",
       "    }\n",
       "</style>\n",
       "<table border=\"1\" class=\"dataframe\">\n",
       "  <thead>\n",
       "    <tr style=\"text-align: right;\">\n",
       "      <th></th>\n",
       "      <th>bin</th>\n",
       "      <th>drug</th>\n",
       "      <th>total</th>\n",
       "      <th>approved</th>\n",
       "      <th>rate</th>\n",
       "    </tr>\n",
       "  </thead>\n",
       "  <tbody>\n",
       "    <tr>\n",
       "      <th>0</th>\n",
       "      <td>417380</td>\n",
       "      <td>B</td>\n",
       "      <td>44371</td>\n",
       "      <td>39952</td>\n",
       "      <td>0.900408</td>\n",
       "    </tr>\n",
       "    <tr>\n",
       "      <th>1</th>\n",
       "      <td>417614</td>\n",
       "      <td>C</td>\n",
       "      <td>72140</td>\n",
       "      <td>65055</td>\n",
       "      <td>0.901788</td>\n",
       "    </tr>\n",
       "    <tr>\n",
       "      <th>2</th>\n",
       "      <td>417740</td>\n",
       "      <td>A</td>\n",
       "      <td>108768</td>\n",
       "      <td>97951</td>\n",
       "      <td>0.900550</td>\n",
       "    </tr>\n",
       "    <tr>\n",
       "      <th>3</th>\n",
       "      <td>999001</td>\n",
       "      <td>A</td>\n",
       "      <td>325532</td>\n",
       "      <td>293040</td>\n",
       "      <td>0.900188</td>\n",
       "    </tr>\n",
       "    <tr>\n",
       "      <th>4</th>\n",
       "      <td>999001</td>\n",
       "      <td>B</td>\n",
       "      <td>164658</td>\n",
       "      <td>148286</td>\n",
       "      <td>0.900570</td>\n",
       "    </tr>\n",
       "    <tr>\n",
       "      <th>5</th>\n",
       "      <td>999001</td>\n",
       "      <td>C</td>\n",
       "      <td>150550</td>\n",
       "      <td>135341</td>\n",
       "      <td>0.898977</td>\n",
       "    </tr>\n",
       "  </tbody>\n",
       "</table>\n",
       "</div>"
      ],
      "text/plain": [
       "      bin drug   total  approved      rate\n",
       "0  417380    B   44371     39952  0.900408\n",
       "1  417614    C   72140     65055  0.901788\n",
       "2  417740    A  108768     97951  0.900550\n",
       "3  999001    A  325532    293040  0.900188\n",
       "4  999001    B  164658    148286  0.900570\n",
       "5  999001    C  150550    135341  0.898977"
      ]
     },
     "execution_count": 2,
     "metadata": {},
     "output_type": "execute_result"
    }
   ],
   "source": [
    "df = utils.load_tables()['full']\n",
    "df76 = df[(df.reject_code != 70) & (df.reject_code != 75)]\n",
    "df76 = df76.groupby(['bin', 'drug']).agg(\n",
    "    total=('pharmacy_claim_approved', 'count'),\n",
    "    approved=('pharmacy_claim_approved', 'sum'),\n",
    ").reset_index()\n",
    "df76['rate'] = df76.approved / df76.total\n",
    "df76"
   ]
  },
  {
   "cell_type": "markdown",
   "metadata": {},
   "source": [
    "For all drugs that rejected with code 76 for all payers in this dataset, the probability of claims being approved is about 0.9. In a mathematical form,\n",
    "$$P(1 \\le n \\le L; \\mu) \\approx 0.9,$$"
   ]
  },
  {
   "cell_type": "markdown",
   "metadata": {},
   "source": [
    "## $L$ as a function of $\\mu$"
   ]
  },
  {
   "cell_type": "code",
   "execution_count": 3,
   "metadata": {},
   "outputs": [],
   "source": [
    "def solve_L(mu, p=0.9):\n",
    "    '''For a given $\\mu$, find the best $L$, such that\n",
    "    $P(1 \\le n \\le L; \\mu)$ is close to p.\n",
    "    '''\n",
    "    \n",
    "    L = 1\n",
    "    loss = abs(poisson.cdf(L, mu, 1) - p)\n",
    "    while loss > abs(poisson.cdf(L+1, mu, 1) - p):\n",
    "        loss = abs(poisson.cdf(L+1, mu, 1) - p)\n",
    "        L += 1\n",
    "    return L, loss"
   ]
  },
  {
   "cell_type": "code",
   "execution_count": 4,
   "metadata": {},
   "outputs": [
    {
     "data": {
      "text/html": [
       "<div>\n",
       "<style scoped>\n",
       "    .dataframe tbody tr th:only-of-type {\n",
       "        vertical-align: middle;\n",
       "    }\n",
       "\n",
       "    .dataframe tbody tr th {\n",
       "        vertical-align: top;\n",
       "    }\n",
       "\n",
       "    .dataframe thead th {\n",
       "        text-align: right;\n",
       "    }\n",
       "</style>\n",
       "<table border=\"1\" class=\"dataframe\">\n",
       "  <thead>\n",
       "    <tr style=\"text-align: right;\">\n",
       "      <th></th>\n",
       "      <th>Average number of fills</th>\n",
       "      <th>Limitation of fills</th>\n",
       "    </tr>\n",
       "  </thead>\n",
       "  <tbody>\n",
       "    <tr>\n",
       "      <th>0</th>\n",
       "      <td>1</td>\n",
       "      <td>3</td>\n",
       "    </tr>\n",
       "    <tr>\n",
       "      <th>1</th>\n",
       "      <td>2</td>\n",
       "      <td>4</td>\n",
       "    </tr>\n",
       "    <tr>\n",
       "      <th>2</th>\n",
       "      <td>3</td>\n",
       "      <td>6</td>\n",
       "    </tr>\n",
       "    <tr>\n",
       "      <th>3</th>\n",
       "      <td>4</td>\n",
       "      <td>7</td>\n",
       "    </tr>\n",
       "    <tr>\n",
       "      <th>4</th>\n",
       "      <td>5</td>\n",
       "      <td>9</td>\n",
       "    </tr>\n",
       "    <tr>\n",
       "      <th>5</th>\n",
       "      <td>6</td>\n",
       "      <td>10</td>\n",
       "    </tr>\n",
       "    <tr>\n",
       "      <th>6</th>\n",
       "      <td>7</td>\n",
       "      <td>11</td>\n",
       "    </tr>\n",
       "    <tr>\n",
       "      <th>7</th>\n",
       "      <td>8</td>\n",
       "      <td>12</td>\n",
       "    </tr>\n",
       "    <tr>\n",
       "      <th>8</th>\n",
       "      <td>9</td>\n",
       "      <td>13</td>\n",
       "    </tr>\n",
       "    <tr>\n",
       "      <th>9</th>\n",
       "      <td>10</td>\n",
       "      <td>15</td>\n",
       "    </tr>\n",
       "  </tbody>\n",
       "</table>\n",
       "</div>"
      ],
      "text/plain": [
       "   Average number of fills  Limitation of fills\n",
       "0                        1                    3\n",
       "1                        2                    4\n",
       "2                        3                    6\n",
       "3                        4                    7\n",
       "4                        5                    9\n",
       "5                        6                   10\n",
       "6                        7                   11\n",
       "7                        8                   12\n",
       "8                        9                   13\n",
       "9                       10                   15"
      ]
     },
     "execution_count": 4,
     "metadata": {},
     "output_type": "execute_result"
    }
   ],
   "source": [
    "# compute L for mu = 1, 2, ... 10\n",
    "mu = np.arange(1, 11)\n",
    "L = np.array([solve_L(a, 0.9)[0] for a in mu])\n",
    "\n",
    "df_temp = pd.DataFrame(\n",
    "    data={\n",
    "        'Average number of fills': mu,\n",
    "        'Limitation of fills': L\n",
    "    }\n",
    ")\n",
    "df_temp"
   ]
  },
  {
   "cell_type": "markdown",
   "metadata": {},
   "source": [
    "If the average number of fills is 4, the the estimated limitation of fills is 7 times. That is to say, a patient can fill this drug for 7 times without getting rejected with code 76."
   ]
  },
  {
   "cell_type": "code",
   "execution_count": 5,
   "metadata": {},
   "outputs": [
    {
     "data": {
      "image/png": "[encoded data removed]",
      "text/plain": [
       "<Figure size 800x600 with 1 Axes>"
      ]
     },
     "metadata": {},
     "output_type": "display_data"
    }
   ],
   "source": [
    "plt.figure(figsize=(8, 6))\n",
    "plt.plot(mu, L)\n",
    "plt.xlabel('Average number of fills', fontsize=16)\n",
    "plt.ylabel('Limitation of fills', fontsize=16)\n",
    "plt.show()"
   ]
  },
  {
   "cell_type": "markdown",
   "metadata": {},
   "source": [
    "Limitations of fills are roughly linear to average numbers of fills."
   ]
  },
  {
   "cell_type": "markdown",
   "metadata": {},
   "source": [
    "## The best $\\mu$ and $L$\n",
    "\n",
    "In our dataset, the average rate of approval for drugs associated with code 76 is 0.9. We can find the best pair ($\\mu$, $L$) that minimizes\n",
    "$$C(\\mu, L) = \\left|0.9 - P(1\\le n \\le L; \\mu)\\right|.$$"
   ]
  },
  {
   "cell_type": "markdown",
   "metadata": {},
   "source": [
    "In the `solve_L` function, it not only returns the best $L$ for a given $\\mu$ (and $p$), but also returns $C(\\mu, L)$. To find the best pair of $(\\mu, L)$, we can search a range of $\\mu$s, and find the pair with smallest $C(\\mu, L)$."
   ]
  },
  {
   "cell_type": "code",
   "execution_count": 6,
   "metadata": {},
   "outputs": [
    {
     "data": {
      "text/plain": [
       "[(7, 11, 0.0014792058890872317),\n",
       " (4, 7, 0.01067397840257367),\n",
       " (8, 12, 0.011924001018518537),\n",
       " (6, 10, 0.01607598300512414),\n",
       " (3, 6, 0.01608205796869655),\n",
       " (10, 15, 0.01654152706533718),\n",
       " (1, 3, 0.019698602928605813),\n",
       " (9, 13, 0.02422657082903512),\n",
       " (5, 9, 0.031906365278151605),\n",
       " (2, 4, 0.04287653950145298)]"
      ]
     },
     "execution_count": 6,
     "metadata": {},
     "output_type": "execute_result"
    }
   ],
   "source": [
    "p = 0.9\n",
    "search_range = np.arange(1, 11)\n",
    "candidates = [(m, *solve_L(m, p)) for m in search_range]\n",
    "candidates.sort(key=lambda x: x[-1])\n",
    "candidates"
   ]
  },
  {
   "cell_type": "code",
   "execution_count": 7,
   "metadata": {},
   "outputs": [
    {
     "name": "stdout",
     "output_type": "stream",
     "text": [
      "The best pair of (mu, L) is (7, 11).\n"
     ]
    }
   ],
   "source": [
    "print(\n",
    "    f'The best pair of (mu, L) is {tuple(candidates[0][:2])}.'\n",
    ")"
   ]
  },
  {
   "cell_type": "markdown",
   "metadata": {},
   "source": [
    "## Potential Application\n",
    "\n",
    "This estimate can help payers to make strategy on the limition of fills, and thus affect the number of prior authorizations they need to process. It can applied to balance the cost between handling prior authorizations and the cost of approving a drug."
   ]
  },
  {
   "cell_type": "code",
   "execution_count": 8,
   "metadata": {},
   "outputs": [
    {
     "data": {
      "image/png": "[encoded data removed]",
      "text/plain": [
       "<Figure size 800x600 with 1 Axes>"
      ]
     },
     "metadata": {},
     "output_type": "display_data"
    }
   ],
   "source": [
    "def approved_proba(mu, L):\n",
    "    return poisson.cdf(L, mu, 1)\n",
    "\n",
    "mu = 7\n",
    "L = np.arange(1, 21)\n",
    "p = [approved_proba(mu, l) for l in L]\n",
    "\n",
    "plt.figure(figsize=(8, 6))\n",
    "plt.plot(L, p, label=f'$\\mu$={mu}')\n",
    "plt.title(f'$\\mu$={mu}', fontsize=16)\n",
    "plt.xlabel('limitation of fills', fontsize=16)\n",
    "plt.xticks(L, L)\n",
    "plt.yticks(np.arange(0, 1.1, 0.1), np.arange(0, 1.1, 0.1).round(1))\n",
    "plt.ylabel('approved probability', fontsize=16)\n",
    "plt.show()"
   ]
  },
  {
   "cell_type": "markdown",
   "metadata": {},
   "source": [
    "The plot shows how the approved probability changes as limitation of fills changes, if the average number of fills is 7. We see that if the limitation of fills is 11, the approved probability is roughly 90%. It means that for 100 pharmacy claims on this drug for a payer, 10 prior authorizations will be filed to the payer. If we increase the limitation of fills to 12, then only 5 prior authorizatinos will be filed because the approved probability increases to roughly 95%. It effectively reduces half of the prior authorizations the payer needs to process.  "
   ]
  },
  {
   "cell_type": "code",
   "execution_count": null,
   "metadata": {},
   "outputs": [],
   "source": []
  }
 ],
 "metadata": {
  "kernelspec": {
   "display_name": "Python 3 (ipykernel)",
   "language": "python",
   "name": "python3"
  },
  "language_info": {
   "codemirror_mode": {
    "name": "ipython",
    "version": 3
   },
   "file_extension": ".py",
   "mimetype": "text/x-python",
   "name": "python",
   "nbconvert_exporter": "python",
   "pygments_lexer": "ipython3",
   "version": "3.9.13"
  }
 },
 "nbformat": 4,
 "nbformat_minor": 4
}
